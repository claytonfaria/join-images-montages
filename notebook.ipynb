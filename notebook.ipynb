{
 "cells": [
  {
   "cell_type": "markdown",
   "source": [],
   "metadata": {
    "collapsed": false
   }
  },
  {
   "cell_type": "code",
   "execution_count": 7,
   "outputs": [],
   "source": [
    "import os\n",
    "from PIL import Image\n"
   ],
   "metadata": {
    "collapsed": false,
    "ExecuteTime": {
     "end_time": "2023-06-11T08:04:55.449128Z",
     "start_time": "2023-06-11T08:04:55.446455Z"
    }
   }
  },
  {
   "cell_type": "code",
   "execution_count": 8,
   "outputs": [],
   "source": [
    "\n",
    "def get_file_list(path, accepted_extensions=None):\n",
    "    if accepted_extensions is None:\n",
    "        accepted_extensions = ['.jpg', '.JPG', '.jpeg']\n",
    "    file_list = []\n",
    "    for root, dirs, files in os.walk(path):\n",
    "        for file in files:\n",
    "            if os.path.splitext(file)[1] in accepted_extensions:\n",
    "                file_list.append(os.path.join(root, file))\n",
    "    return file_list\n"
   ],
   "metadata": {
    "collapsed": false,
    "ExecuteTime": {
     "end_time": "2023-06-11T08:04:56.552019Z",
     "start_time": "2023-06-11T08:04:56.548022Z"
    }
   }
  },
  {
   "cell_type": "code",
   "execution_count": 12,
   "outputs": [],
   "source": [
    "def create_montage(image1_path, image2_path, output_path, width_inch=6, height_inch=4, padding=10):\n",
    "    # Open the two images\n",
    "    image1 = Image.open(image1_path)\n",
    "    image2 = Image.open(image2_path)\n",
    "\n",
    "    # Calculate the maximum width and height to fit within the desired size, maintaining aspect ratio\n",
    "    max_width = (width_inch * 300 - 3 * padding) // 1.5\n",
    "    max_height = height_inch * 300 - 2 * padding\n",
    "\n",
    "    # Resize and rotate image 1 to better fit within the montage\n",
    "    image1.thumbnail((max_width, max_height))\n",
    "    if image1.width > image1.height:\n",
    "        image1 = image1.rotate(90, expand=True)\n",
    "\n",
    "    image2.thumbnail((max_width, max_height))\n",
    "    if image2.width > image2.height:\n",
    "        image2 = image2.rotate(90, expand=True)\n",
    "\n",
    "    # Calculate the positions and sizes to paste the images on the created image\n",
    "    total_width = image1.width + image2.width + padding\n",
    "    total_height = max(image1.height, image2.height)\n",
    "    pos_x = (width_inch * 300 - total_width) // 2\n",
    "    pos_y = (height_inch * 300 - total_height) // 2\n",
    "\n",
    "    # Create a new image with the desired size and a white background\n",
    "    montage_width = width_inch * 300\n",
    "    montage_height = height_inch * 300\n",
    "    montage = Image.new('RGB', (montage_width, montage_height), (255, 255, 255))\n",
    "\n",
    "    # Paste the images onto the created image using the calculated positions\n",
    "    montage.paste(image1, (pos_x, pos_y))\n",
    "    montage.paste(image2, (pos_x + image1.width + padding, pos_y))\n",
    "\n",
    "    montage.save(output_path)\n",
    "\n",
    "    image1.close()\n",
    "    image2.close()"
   ],
   "metadata": {
    "collapsed": false,
    "ExecuteTime": {
     "end_time": "2023-06-11T08:06:18.582653Z",
     "start_time": "2023-06-11T08:06:18.578256Z"
    }
   }
  },
  {
   "cell_type": "code",
   "execution_count": 13,
   "outputs": [
    {
     "ename": "TypeError",
     "evalue": "'float' object cannot be interpreted as an integer",
     "output_type": "error",
     "traceback": [
      "\u001B[0;31m---------------------------------------------------------------------------\u001B[0m",
      "\u001B[0;31mTypeError\u001B[0m                                 Traceback (most recent call last)",
      "Cell \u001B[0;32mIn[13], line 6\u001B[0m\n\u001B[1;32m      4\u001B[0m first \u001B[38;5;241m=\u001B[39m images[i]\n\u001B[1;32m      5\u001B[0m second \u001B[38;5;241m=\u001B[39m images[i \u001B[38;5;241m+\u001B[39m \u001B[38;5;241m1\u001B[39m] \u001B[38;5;28;01mif\u001B[39;00m i \u001B[38;5;241m+\u001B[39m \u001B[38;5;241m1\u001B[39m \u001B[38;5;241m<\u001B[39m \u001B[38;5;28mlen\u001B[39m(images) \u001B[38;5;28;01melse\u001B[39;00m images[i]\n\u001B[0;32m----> 6\u001B[0m \u001B[43mcreate_montage\u001B[49m\u001B[43m(\u001B[49m\u001B[43mfirst\u001B[49m\u001B[43m,\u001B[49m\u001B[43m \u001B[49m\u001B[43msecond\u001B[49m\u001B[43m,\u001B[49m\u001B[43m \u001B[49m\u001B[38;5;124;43mf\u001B[39;49m\u001B[38;5;124;43m'\u001B[39;49m\u001B[38;5;124;43mmontages/montage_\u001B[39;49m\u001B[38;5;132;43;01m{\u001B[39;49;00m\u001B[43mi\u001B[49m\u001B[38;5;132;43;01m}\u001B[39;49;00m\u001B[38;5;124;43m.jpg\u001B[39;49m\u001B[38;5;124;43m'\u001B[39;49m\u001B[43m)\u001B[49m\n",
      "Cell \u001B[0;32mIn[12], line 12\u001B[0m, in \u001B[0;36mcreate_montage\u001B[0;34m(image1_path, image2_path, output_path, width_inch, height_inch, padding)\u001B[0m\n\u001B[1;32m      8\u001B[0m max_height \u001B[38;5;241m=\u001B[39m height_inch \u001B[38;5;241m*\u001B[39m \u001B[38;5;241m300\u001B[39m \u001B[38;5;241m-\u001B[39m \u001B[38;5;241m2\u001B[39m \u001B[38;5;241m*\u001B[39m padding\n\u001B[1;32m     10\u001B[0m \u001B[38;5;66;03m# Resize and rotate image 1 to better fit within the montage\u001B[39;00m\n\u001B[1;32m     11\u001B[0m \u001B[38;5;66;03m# image1.thumbnail((max_width, max_height))\u001B[39;00m\n\u001B[0;32m---> 12\u001B[0m \u001B[43mimage1\u001B[49m\u001B[38;5;241;43m.\u001B[39;49m\u001B[43mresize\u001B[49m\u001B[43m(\u001B[49m\u001B[43m(\u001B[49m\u001B[43mmax_width\u001B[49m\u001B[43m,\u001B[49m\u001B[43m \u001B[49m\u001B[43mmax_height\u001B[49m\u001B[43m)\u001B[49m\u001B[43m)\u001B[49m\n\u001B[1;32m     13\u001B[0m \u001B[38;5;28;01mif\u001B[39;00m image1\u001B[38;5;241m.\u001B[39mwidth \u001B[38;5;241m>\u001B[39m image1\u001B[38;5;241m.\u001B[39mheight:\n\u001B[1;32m     14\u001B[0m     image1 \u001B[38;5;241m=\u001B[39m image1\u001B[38;5;241m.\u001B[39mrotate(\u001B[38;5;241m90\u001B[39m, expand\u001B[38;5;241m=\u001B[39m\u001B[38;5;28;01mTrue\u001B[39;00m)\n",
      "File \u001B[0;32m~/PycharmProjects/join_pictures/venv/lib/python3.11/site-packages/PIL/Image.py:2193\u001B[0m, in \u001B[0;36mImage.resize\u001B[0;34m(self, size, resample, box, reducing_gap)\u001B[0m\n\u001B[1;32m   2185\u001B[0m             \u001B[38;5;28mself\u001B[39m \u001B[38;5;241m=\u001B[39m Image\u001B[38;5;241m.\u001B[39mreduce(\u001B[38;5;28mself\u001B[39m, factor, box\u001B[38;5;241m=\u001B[39mreduce_box)\n\u001B[1;32m   2186\u001B[0m         box \u001B[38;5;241m=\u001B[39m (\n\u001B[1;32m   2187\u001B[0m             (box[\u001B[38;5;241m0\u001B[39m] \u001B[38;5;241m-\u001B[39m reduce_box[\u001B[38;5;241m0\u001B[39m]) \u001B[38;5;241m/\u001B[39m factor_x,\n\u001B[1;32m   2188\u001B[0m             (box[\u001B[38;5;241m1\u001B[39m] \u001B[38;5;241m-\u001B[39m reduce_box[\u001B[38;5;241m1\u001B[39m]) \u001B[38;5;241m/\u001B[39m factor_y,\n\u001B[1;32m   2189\u001B[0m             (box[\u001B[38;5;241m2\u001B[39m] \u001B[38;5;241m-\u001B[39m reduce_box[\u001B[38;5;241m0\u001B[39m]) \u001B[38;5;241m/\u001B[39m factor_x,\n\u001B[1;32m   2190\u001B[0m             (box[\u001B[38;5;241m3\u001B[39m] \u001B[38;5;241m-\u001B[39m reduce_box[\u001B[38;5;241m1\u001B[39m]) \u001B[38;5;241m/\u001B[39m factor_y,\n\u001B[1;32m   2191\u001B[0m         )\n\u001B[0;32m-> 2193\u001B[0m \u001B[38;5;28;01mreturn\u001B[39;00m \u001B[38;5;28mself\u001B[39m\u001B[38;5;241m.\u001B[39m_new(\u001B[38;5;28;43mself\u001B[39;49m\u001B[38;5;241;43m.\u001B[39;49m\u001B[43mim\u001B[49m\u001B[38;5;241;43m.\u001B[39;49m\u001B[43mresize\u001B[49m\u001B[43m(\u001B[49m\u001B[43msize\u001B[49m\u001B[43m,\u001B[49m\u001B[43m \u001B[49m\u001B[43mresample\u001B[49m\u001B[43m,\u001B[49m\u001B[43m \u001B[49m\u001B[43mbox\u001B[49m\u001B[43m)\u001B[49m)\n",
      "\u001B[0;31mTypeError\u001B[0m: 'float' object cannot be interpreted as an integer"
     ]
    }
   ],
   "source": [
    "images = get_file_list('images')\n",
    "\n",
    "for i in range(0, len(images), 2):\n",
    "    first = images[i]\n",
    "    second = images[i + 1] if i + 1 < len(images) else images[i]\n",
    "    create_montage(first, second, f'montages/montage_{i}.jpg')\n"
   ],
   "metadata": {
    "collapsed": false,
    "ExecuteTime": {
     "end_time": "2023-06-11T08:06:20.407022Z",
     "start_time": "2023-06-11T08:06:20.356974Z"
    }
   }
  },
  {
   "cell_type": "code",
   "execution_count": null,
   "outputs": [],
   "source": [],
   "metadata": {
    "collapsed": false
   }
  }
 ],
 "metadata": {
  "kernelspec": {
   "display_name": "Python 3",
   "language": "python",
   "name": "python3"
  },
  "language_info": {
   "codemirror_mode": {
    "name": "ipython",
    "version": 2
   },
   "file_extension": ".py",
   "mimetype": "text/x-python",
   "name": "python",
   "nbconvert_exporter": "python",
   "pygments_lexer": "ipython2",
   "version": "2.7.6"
  }
 },
 "nbformat": 4,
 "nbformat_minor": 0
}
